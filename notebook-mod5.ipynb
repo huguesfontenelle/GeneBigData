{
 "cells": [
  {
   "cell_type": "markdown",
   "metadata": {},
   "source": [
    "# Module 5 R Notebook\n",
    "\n",
    "# Gene Alterations\n",
    "\n",
    "## Important note - read first\n",
    "\n",
    "In this course, you are not required to become proficient in writing R scripts for Big Biomedical Data Analytics. The assignments will be based on each module's template, and replacing some parts of them with new data and parameters so that you will get new results and interpret them. \n",
    "\n",
    "Understanding all the coding details in R will depend on your bakcground knowledge in programming concepts. \n",
    "\n",
    "Therefore if you do not understand all the coding details in R, try to run the code and understand mostly: \n",
    "\n",
    "1) what information do I have to provide to this script to make it work ?\n",
    "\n",
    "2) how to execute this script (it will always be: run the cell containing the script Cell --> Run cells, or click on SHIFT + ENTER at the same time, or simply click on the right arrow icon) ?\n",
    "\n",
    "3) what results do I get ?\n",
    "\n",
    "4) how to interpret the results ?\n",
    "\n",
    "Little by little, you will become familiar with R programming language and, example after example, you will understand the scripts and be ready for more advanced programming work. \n",
    "\n",
    "## Assignment goals\n",
    "\n",
    "In this notebook, you are going to practice analyzing files containing copy number variations. Since for a known population, cBioPortal cna be used for that purpose, we are going to get reults at the patient level. \n",
    "\n",
    "Here we are continuing to work on a breast cancer dataset downloaded from Firehose (https://gdac.broadinstitute.org/). The dataset used is \"BRCA.snp__genome_wide_snp_6__broad_mit_edu__Level_3__segmented_scna_minus_germline_cnv_hg19__seg.seg.txt\". This is a complete dataset of copy number alterations from the whole geneome compared with a normal genome. \n",
    "\n",
    "This dataset has 6 columns:\n",
    "\n",
    "         Sample                    Chromosome     Start       End        Num_Probes  Segment_Mean\n",
    "1 TCGA-3C-AAAU-10A-01D-A41E-01          1        3218610      95674710      53225       0.0055\n",
    "2 TCGA-3C-AAAU-10A-01D-A41E-01          1        95676511     95676518          2      -1.6636\n",
    "\n",
    "'Sample' represents the patient ID (there are some normals too as we saw previously).\n",
    "'Chromosome' represents the chromosome number.\n",
    "'Start' represents the start position of the segmented window.\n",
    "'End' represents the end position of the segmented window.\n",
    "'Num_Probes' represents the number of probes in the segmented window.\n",
    "'Segment_Mean' represents the mean copy numner estimate of this particular segment.\n",
    "\n",
    "When 'Segment_Mean' is greater than 0, there is amplification, and when it is less than 0, there is deletion. However slight variations do not count much, as we saw. Often cut-off values of +0.2 and -0.2 are chosen to determine whether there is amplificaiton or deletion.\n",
    "\n",
    "In this assignment, you will find whether a particular patient has copy number alterations, and how much.\n",
    "\n",
    "So let us get started !\n",
    "\n",
    "## Preparing the environment\n",
    "\n",
    "Good news - we are not going to use any libraries for this assignment !"
   ]
  },
  {
   "cell_type": "code",
   "execution_count": null,
   "metadata": {
    "collapsed": false
   },
   "outputs": [],
   "source": [
    "# no library to load"
   ]
  },
  {
   "cell_type": "markdown",
   "metadata": {
    "collapsed": false
   },
   "source": [
    "## Loading the data\n",
    "\n",
    "We load the dataset downloaded from Firehose here. We check how many rows and columns and display some of the data to see what they look like. \n",
    "\n",
    "We are using the header row as variable names for the columns of our 'cnvlogs' dataframe, which is accomplished through 'header = T').\n",
    "\n",
    "We see that we have 284,458 rows and 6 columns. \n",
    "\n",
    "Because we have only 6 columns, we can look at the first 6 rows using 'head'.\n",
    "\n",
    "we notice right away that we have many rows for the same patient because each row corresponds to a particular probe, or location on the genome."
   ]
  },
  {
   "cell_type": "code",
   "execution_count": null,
   "metadata": {
    "collapsed": false
   },
   "outputs": [],
   "source": [
    "# cell #1\n",
    "cnvLogs <- read.table(\"readonly/BRCA.snp__genome_wide_snp_6__broad_mit_edu__Level_3__segmented_scna_minus_germline_cnv_hg19__seg.seg.txt\", \n",
    "            header = T, fill = T)\n",
    "dim(cnvLogs)\n",
    "# 284458 6\n",
    "head(cnvLogs)\n",
    "#             Sample Chromosome     Start       End Num_Probes Segment_Mean\n",
    "#1 TCGA-3C-AAAU-10A-01D-A41E-01          1   3218610  95674710      53225       0.0055"
   ]
  },
  {
   "cell_type": "markdown",
   "metadata": {
    "collapsed": false
   },
   "source": [
    "## Data understanding\n",
    "\n",
    "To get a sense of whether our data overall is more amplified or deleted, we can run summary statistics.\n",
    "\n",
    "We find that overall our data are more deleted since the mean is negative. However this should be used with caution because we may have a mix of normals and patients in this dataset."
   ]
  },
  {
   "cell_type": "code",
   "execution_count": null,
   "metadata": {
    "collapsed": false
   },
   "outputs": [],
   "source": [
    "# cell #2\n",
    "summary(cnvLogs)\n",
    "# mean = -0.1132 median = 0"
   ]
  },
  {
   "cell_type": "markdown",
   "metadata": {
    "collapsed": false
   },
   "source": [
    "## Copy number alterations of a single patient\n",
    "\n",
    "Now for a particular patient, say \"TCGA-A8-A06R-01A-11D-A011-01\", we are going to:\n",
    "\n",
    "1) find how many potential copy number variations he/she has (just counting how many rows he/she has in this dataset).\n",
    "\n",
    "2) find how many amplifications ('Segment_Mean' > 0 ) he/she has.\n",
    "\n",
    "3) find how many deletions ('Segment_Mean' < 0 ) he/she has.\n",
    "\n",
    "4) find the average 'Segment_Mean' he/she has to get a global picture. \n",
    "\n",
    "So first, we count how many rows he/she has in this dataset. this can be accomplished using a 'subset' function in R to select all the rows for this patient, then we count how mnay we have using 'nrow'. \n",
    "\n",
    "We find 968.\n"
   ]
  },
  {
   "cell_type": "code",
   "execution_count": null,
   "metadata": {
    "collapsed": false
   },
   "outputs": [],
   "source": [
    "# cell #3\n",
    "nrow(subset(cnvLogs, Sample == \"TCGA-A8-A06R-01A-11D-A011-01\"))"
   ]
  },
  {
   "cell_type": "markdown",
   "metadata": {
    "collapsed": true
   },
   "source": [
    "Next, we calculate how many of these rows have 'Segment_Mean' > 0.\n",
    "\n",
    "We find 585."
   ]
  },
  {
   "cell_type": "code",
   "execution_count": null,
   "metadata": {
    "collapsed": false
   },
   "outputs": [],
   "source": [
    "# cell #4\n",
    "nrow(subset(cnvLogs, Sample == \"TCGA-A8-A06R-01A-11D-A011-01\" & Segment_Mean > 0))"
   ]
  },
  {
   "cell_type": "markdown",
   "metadata": {},
   "source": [
    "Similarly, we calculate how many of these rows have 'Segment_Mean' < 0.\n",
    "\n",
    "We find 383."
   ]
  },
  {
   "cell_type": "code",
   "execution_count": null,
   "metadata": {
    "collapsed": false
   },
   "outputs": [],
   "source": [
    "# cell #5\n",
    "nrow(subset(cnvLogs, Sample == \"TCGA-A8-A06R-01A-11D-A011-01\" & Segment_Mean < 0))"
   ]
  },
  {
   "cell_type": "markdown",
   "metadata": {},
   "source": [
    "Finally, we calculate the mean of 'Segment_Mean' for this patient. \n",
    "\n",
    "We find a positive value of 0.2, which is above the amplification threshold."
   ]
  },
  {
   "cell_type": "code",
   "execution_count": null,
   "metadata": {
    "collapsed": false
   },
   "outputs": [],
   "source": [
    "# cell #6\n",
    "mean(subset(cnvLogs, Sample == \"TCGA-A8-A06R-01A-11D-A011-01\")[[\"Segment_Mean\"]])"
   ]
  },
  {
   "cell_type": "markdown",
   "metadata": {},
   "source": [
    "We can say that this patient has 968 copy number alterations, with 585 amplifications and 383 deletions. Overall the patient has more amplifications than deletions, which is confirmed by his overall score of 0.2. \n",
    "\n",
    "It would be interesting to calculate globally the same figures for all normals and all tumor patients."
   ]
  }
 ],
 "metadata": {
  "anaconda-cloud": {},
  "kernelspec": {
   "display_name": "R",
   "language": "R",
   "name": "ir"
  },
  "language_info": {
   "codemirror_mode": "r",
   "file_extension": ".r",
   "mimetype": "text/x-r-source",
   "name": "R",
   "pygments_lexer": "r",
   "version": "3.2.2"
  }
 },
 "nbformat": 4,
 "nbformat_minor": 0
}
